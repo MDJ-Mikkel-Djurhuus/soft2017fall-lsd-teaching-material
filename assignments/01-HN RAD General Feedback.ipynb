{
 "cells": [
  {
   "cell_type": "markdown",
   "metadata": {},
   "source": [
    "# General Remarks\n",
    "\n",
    "## Cool\n",
    "\n",
    "  * All hand-ins are markdown files!\n",
    "  * Many RADs are good to read ad some are quite close to how they should look like.\n",
    "\n",
    "## To Improve\n",
    "\n",
    "  * Task:\n",
    "    > upload a link to the RAD markdown document\n",
    "\n",
    "    That is:\n",
    "      \n",
    "      - `https://github.com/<github_id>/<repo_id>/blob/master/RAD.md` is a valid link as it points to the file\n",
    "      - `https://github.com/<github_id>/<repo_id>` is not a valid link with respect to the task as it points to the repository\n",
    "  \n",
    "  * Spelling!\n",
    "\n",
    "  * Never invent requirements! That might become expensive. Requirements elicitation is a _translation process_ from natural language to a bit more structured schematic but still natural language. That is, your RAD shall never describe something else than the system described by the customer, in our case the task description.\n",
    "  \n",
    "  * How many use cases are there usually per Use Case?\n",
    "  \n",
    "  * Is the simulator program an actor?\n",
    "\n",
    "  * _\"1. Purpose of the system\"_ is the purpose of the system not the purpose of the task for you.\n",
    "\n",
    "  * Important actors: **Human Users** access the system via browsers, **computers** may access the system via a REST API. That is, functional requirements, i.e., use cases have to be there for the both of them.\n",
    "\n",
    "  * Read the lecture notes and the linked resources! When it says:\n",
    "\n",
    "    > What should not be in the Requirements?\n",
    "    >   * Implementation technology\n",
    "    >   * Development methodology\n",
    "\n",
    "    Then you cannot write that you implement you app in Node,  that the architecture consisting of a back-end and front-end., etc.\n",
    "\n",
    "  * Is not there a current system, when you are constructing a clone?\n",
    "  \n",
    "  * Even-though similar, use cases and scenarios are not user stories as in BDD!\n",
    "  \n",
    "  * The application to build, i.e., your system is not mentioned as an actor in scenario descriptions and use cases!\n",
    "  \n",
    "  * A registered user and a user (visitor) are the same with respect to use cases. If you want to discern the two add a precondition to your use cases.\n",
    "  \n",
    "  * _\"Easy to use\"_ never becomes a requirement neither a non-functional requirement as it is not measurable! One persons' _easy to use_ is the other persons' _abstruse_!\n",
    "  \n",
    "  * Neither the last lecture nor the book talks about **User Stories**! So do not write those they are not use cases!"
   ]
  }
 ],
 "metadata": {
  "kernelspec": {
   "display_name": "Python 3",
   "language": "python",
   "name": "python3"
  },
  "language_info": {
   "codemirror_mode": {
    "name": "ipython",
    "version": 3
   },
   "file_extension": ".py",
   "mimetype": "text/x-python",
   "name": "python",
   "nbconvert_exporter": "python",
   "pygments_lexer": "ipython3",
   "version": "3.6.1"
  }
 },
 "nbformat": 4,
 "nbformat_minor": 2
}
