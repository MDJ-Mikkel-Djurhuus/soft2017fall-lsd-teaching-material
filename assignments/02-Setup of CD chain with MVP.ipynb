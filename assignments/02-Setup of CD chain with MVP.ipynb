{
 "cells": [
  {
   "cell_type": "markdown",
   "metadata": {},
   "source": [
    "# Your Task\n",
    "\n",
    "  * You setup a CD chain, similar to the one that you saw in class, with a technology of your choice.\n",
    "  * You create build jobs, which build and deploy at least an _empty_ system (here our Minimal Viable Prototype).\n",
    "  * Your MVP must consist out of at least two seperate sub-systems (sub-projects), which are build sepeartely. However, they can be deployed in a single application on a single machine.\n",
    "  * Your deployed application has to be accessible online via HTTP.\n",
    "  * You have to be able to deploy a new verison of your software quickly, for example to change the static page it displays.\n",
    "  * This MVP is the base for further developments. That is, you will implemt the features of Hacker News clone in it and you will deploy new features continiously.\n",
    "\n",
    "\n",
    "### Hand-in procedure\n",
    "\n",
    "  * You create a Markdown (`.md`) document with the following three sections in your project's Github repository.\n",
    "  * In the top of the document, you provide a link to your MVP application serving at least a static HTML page.\n",
    "  * A second part of that document contains a brief description of the CD technology that you chose.\n",
    "  * In a third part of that document, you document how setup and configured your build jobs similar to the tutorial you saw in class.\n",
    "  * At latest on **20.9. 11am** you will upload the links to the documentation and the link to your running application on Moodle."
   ]
  }
 ],
 "metadata": {
  "kernelspec": {
   "display_name": "Python 3",
   "language": "python",
   "name": "python3"
  },
  "language_info": {
   "codemirror_mode": {
    "name": "ipython",
    "version": 3
   },
   "file_extension": ".py",
   "mimetype": "text/x-python",
   "name": "python",
   "nbconvert_exporter": "python",
   "pygments_lexer": "ipython3",
   "version": "3.6.1"
  }
 },
 "nbformat": 4,
 "nbformat_minor": 2
}
