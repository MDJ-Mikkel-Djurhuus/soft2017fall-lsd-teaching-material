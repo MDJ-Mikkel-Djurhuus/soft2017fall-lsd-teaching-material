{
 "cells": [
  {
   "cell_type": "markdown",
   "metadata": {},
   "source": [
    "# Welcome...\n",
    "\n",
    "![back_to_school](images/welcome_back.jpeg)"
   ]
  },
  {
   "cell_type": "markdown",
   "metadata": {},
   "source": [
    "# Organisational Notes\n",
    "\n",
    "You will run through that course in groups. All project groups have ca. five members. These groups realize the projects together.\n",
    "\n",
    "\n",
    "## Assignments\n",
    "\n",
    "See, the master document on https://datsoftlyngby.github.io/soft2017fall/LSD_plan.html\n",
    "\n",
    "| Task                                                   | Hand-out                | Hand-in     | Studypoints|\n",
    "|--------------------------------------------------------|:-----------------------:|:-----------:|:--------:|\n",
    "| Requirements Analysis (Get feedback on this)           | 31.8.                   | 6.9. 11am   | 10 **!** |\n",
    "| Setup of CI/CD chain with MVP (Demo in class)          | 14.9.                   | 20.9. 11am  | 10 **!** |\n",
    "| _Continiously_ Feature Development and Extension       | after CI/CD chain is up |             | 20 **!** |\n",
    "| Handover of systems to drift (last part of the lecture |                         | 2.11.       | 10 **!** |\n",
    "| _Continiously_ Monitoring and Drift                    | from 2.11. on           |             | 20 **!** |\n",
    "| Systems Monitoring (Prometheus)                        | 9.11.                   | 15.11.      | 10 **!** |\n",
    "| Add Event Logging                                      | 16.11.                  | 22.11.      | 10 **!** |\n",
    "| Add Scalability (Kubernetes)                           | 23.11.                  | 29.11.      | 10 **?** |\n",
    "| Add Security                                           | 30.11.                  | 6.12.       | 10 **?** |\n",
    "| Reflection and preparation of project report           |                         | 14.12.      | 10 **!** |\n",
    "\n",
    "\n",
    "Assignments marked with **!** are mandatory. That is, the groups have to do them on time to be elegible for the exam. More importantly, to allow the other groups to perform their tasks.\n",
    "Assignments marked with **?** are optional. However, we encourage the students to hand them in!\n",
    "\n",
    "\n",
    "## Exam\n",
    "\n",
    "Examination form: \n",
    "  * Oral group exam. Not the same day as System Integration exam.\n",
    "  * You have in their groups certain roles like product owner, architect, lead developer, devops engineer, quality assurance/testing lead, etc.\n",
    "  * The groups develop their projects with the help of an issues tracker. These issues together with the linked solutions (commits) form their development diary. \n",
    "  * In the end of the class each group hands in a project report, in which they reflect on important issues, their solutions and corresponding problems out of perspective of the respective roles.\n",
    "  * The exam will last in total 10 minutes per student. That is, a five-person group has a 50 minutes exam.\n",
    "  \n",
    "The exams thus starts from this project report. There will not be predefined questions to draw. But the following questions are of course related to the curriculum. \n",
    "\n",
    "\n",
    "## Course Material\n",
    "\n",
    "  * You will find all the notebooks (the presentation you are looking at) and other code examples with corresponding data under the following GitHub repository:\n",
    "https://github.com/datsoftlyngby/soft2017fall-lsd-teaching-material\n",
    "For cloning use:\n",
    "`git@github.com:datsoftlyngby/soft2017fall-lsd-teaching-material.git`\n",
    "\n",
    "\n",
    "## Literature\n",
    "\n",
    "You should not really need any other literature besides all the information given in the notebooks in the `lecture_notes` directory.\n",
    "\n",
    "  * We will use some excertps from _\"Object-Oriented Software Engineering Using UML, Patterns, and Java\"_ Third Edition, Bernd Bruegge & Allen H. Dutoit, which we will provide you.\n",
    "  * You might want to have a look at for some _\"UML Distilled: A Brief Guide to the Standard Object Modeling Language\"_ by Martin Fowler.\n",
    "  * Some chapters from: _\"Pro Git\"_, 2nd Edition, Scott Chacon & Ben Straub, which you can read online: https://git-scm.com/book/en/v2\n",
    "  * Some resource on Docker, for example, _\"Docker for Java Developers\"_, Arun Gupta, which you can get for free from http://www.oreilly.com/programming/free/docker-for-java-developers.csp"
   ]
  },
  {
   "cell_type": "markdown",
   "metadata": {},
   "source": [
    "# Schedule\n",
    "\n",
    "  * Course in three blocks\n",
    "    - Technical fundamentals block\n",
    "    - Disciplined development methods block\n",
    "    - Large systems in perspective block\n",
    "  * See the plan at https://datsoftlyngby.github.io/soft2017fall/LSD_plan.html\n",
    "  * Thursday mornings (8.30 to 12.00) danish class\n",
    "  * Thursday afternoons (12.30 to 16:00) international class\n",
    "  * Lokale 2.03\n",
    "  \n",
    "The course is taught by Anders (`aka`), Jens (`jeep`), and Helge (`rhp`), as indicated in the plan linked above."
   ]
  },
  {
   "cell_type": "markdown",
   "metadata": {},
   "source": [
    "# Groups\n",
    "\n",
    "  * Each group should have _five_ members.\n",
    "  * We will form them **now!**\n",
    "  \n",
    "![](https://camo.githubusercontent.com/3f522a859f6fd04365e8d3e4e0928bbfa29eeac5/68747470733a2f2f6d2e706f706b65792e636f2f6133636265632f61724e676b2e676966)\n",
    "  "
   ]
  },
  {
   "cell_type": "code",
   "execution_count": 8,
   "metadata": {},
   "outputs": [
    {
     "name": "stdout",
     "output_type": "stream",
     "text": [
      "Grotesque Success\n",
      "Tense Lady\n",
      "Gentle Possession\n",
      "Super Tooth\n",
      "Worrisome Variation\n",
      "Crazy Celebration\n",
      "Repulsive Player\n",
      "Wandering Appointment\n",
      "Gentle Resolution\n",
      "Innocent Variation\n"
     ]
    }
   ],
   "source": [
    "import group_names\n",
    "\n",
    "group_names.get_list_of_names(10)"
   ]
  },
  {
   "cell_type": "markdown",
   "metadata": {},
   "source": [
    "# Getting started, setting up your VM\n",
    "\n",
    "In the following is a step by step guide to get you up and running.\n",
    "\n",
    "  * Download and install VirtualBox (https://www.virtualbox.org/wiki/Downloads)\n",
    "  * Download and install Vagrant (https://www.vagrantup.com/downloads.html)\n",
    "    * To get started with Vagrant on Windows, see https://www.sitepoint.com/getting-started-vagrant-windows/ Focus in particular on using PuTTY instead of SSH on Windows\n",
    "or alternatively install Git on Windows and follow the directions: http://stackoverflow.com/a/16247703\n",
    "    * On Unix'ish operating systems, if you did not already generate an SSH keypair, generate one (e.g., via `ssh-keygen -t rsa`)\n",
    "  * Clone this repository into a directory of your choice (`/path/to/`):\n",
    "\n",
    "    ```\n",
    "    git clone https://github.com/datsoftlyngby/soft2017fall-lsd-teaching-material.git \n",
    "    ```\n",
    "\n",
    "  * On the command line change directory to where you cloned this repository (`/path/to/cloned/repo/vm`). Likely, it is just:\n",
    "  \n",
    "    ```bash\n",
    "    cd ./soft2017fall-lsd-teaching-material/vm\n",
    "    ```\n",
    "  * Subsequently, start up the VM, which will take a bit on the first start up as it has to download the Ubuntu image and a bit of other software.\n",
    "    ```bash\n",
    "    vagrant up\n",
    "    ```\n",
    "  * To log onto the virtual machine (VM) execute\n",
    "    ```bash\n",
    "    vagrant ssh\n",
    "    ```\n",
    "    \n",
    "Now, you should be logged onto the VM and you should see a Bash prompt similar to \n",
    "\n",
    "```bash\n",
    "vagrant@vagrant:~$\n",
    "```\n",
    "   \n",
    "In case you are done working on your virtual machine, you can leave it by issuing the `exit` command. Subsequently, you can put the virtual machine to \"sleep\" (just like closing the lid of your notebook) by running `vagrant suspend` on your host machine.\n",
    "\n",
    "```bash\n",
    "vagrant@vagrant:~$ exit\n",
    "vagrant suspend\n",
    "```\n",
    "\n",
    "In case you want to discard this VM just run `vagrant destroy` from within the `./soft2017fall-lsd-teaching-material/vm` directory.\n",
    "\n",
    "\n",
    "\n",
    "## A side note, working with these presentations on your machine\n",
    "\n",
    "Many presentations are so called Jupyter Notebooks. You can see and edit them in your browser as described in the following\n",
    "\n",
    "  * When logged onto the VM, you can start the Jupyter Notebook server (to program in the browser) via:\n",
    "    ```bash\n",
    "    vagrant@vagrant:~$ cd /synced_folder/lecture_notes\n",
    "vagrant@vagrant:~$ notebook\n",
    "    ```\n",
    "    **Note** The `notebook` command is just an alias to the complete command `jupyter notebook --no-browser --ip=0.0.0.0 --NotebookApp.token=\"\"` The `notebook` command is context sensitive. That is, the server is always started in the scope of the current directory. When you have your notebooks stored in another directory than the one in which you execute `notebook`, then you have change directories before.\n",
    "    \n",
    "  * Now you should be able to connect to the Jupyter Notebook server by connecting to http://localhost:8888 in the browser of your choice. \n",
    "  * You can stop the server by hitting `CTRL-C`."
   ]
  }
 ],
 "metadata": {
  "kernelspec": {
   "display_name": "Python 3",
   "language": "python",
   "name": "python3"
  },
  "language_info": {
   "codemirror_mode": {
    "name": "ipython",
    "version": 3
   },
   "file_extension": ".py",
   "mimetype": "text/x-python",
   "name": "python",
   "nbconvert_exporter": "python",
   "pygments_lexer": "ipython3",
   "version": "3.6.1"
  }
 },
 "nbformat": 4,
 "nbformat_minor": 2
}
